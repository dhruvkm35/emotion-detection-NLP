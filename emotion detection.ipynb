{
 "cells": [
  {
   "cell_type": "code",
   "execution_count": 1,
   "id": "ce24e9e0-6ec9-4d08-abe6-297aedada444",
   "metadata": {},
   "outputs": [
    {
     "name": "stdout",
     "output_type": "stream",
     "text": [
      "done\n"
     ]
    }
   ],
   "source": [
    "import pandas as pd\n",
    "import numpy as np\n",
    "import matplotlib.pyplot as plt\n",
    "import seaborn as sns\n",
    "import string\n",
    "import nltk\n",
    "print('done')"
   ]
  },
  {
   "cell_type": "code",
   "execution_count": 2,
   "id": "288bd0cd-e1e7-431a-abf9-5d820b839717",
   "metadata": {},
   "outputs": [],
   "source": [
    "df = pd.read_csv('emotiondataset.csv',names=['text','emotion'])"
   ]
  },
  {
   "cell_type": "code",
   "execution_count": 3,
   "id": "a254cc31-26c1-48fd-b01b-a1bfc12d891e",
   "metadata": {},
   "outputs": [
    {
     "data": {
      "text/html": [
       "<div>\n",
       "<style scoped>\n",
       "    .dataframe tbody tr th:only-of-type {\n",
       "        vertical-align: middle;\n",
       "    }\n",
       "\n",
       "    .dataframe tbody tr th {\n",
       "        vertical-align: top;\n",
       "    }\n",
       "\n",
       "    .dataframe thead th {\n",
       "        text-align: right;\n",
       "    }\n",
       "</style>\n",
       "<table border=\"1\" class=\"dataframe\">\n",
       "  <thead>\n",
       "    <tr style=\"text-align: right;\">\n",
       "      <th></th>\n",
       "      <th>text</th>\n",
       "      <th>emotion</th>\n",
       "    </tr>\n",
       "  </thead>\n",
       "  <tbody>\n",
       "    <tr>\n",
       "      <th>0</th>\n",
       "      <td>i didnt feel humiliated</td>\n",
       "      <td>sadness</td>\n",
       "    </tr>\n",
       "    <tr>\n",
       "      <th>1</th>\n",
       "      <td>i can go from feeling so hopeless to so damned...</td>\n",
       "      <td>sadness</td>\n",
       "    </tr>\n",
       "    <tr>\n",
       "      <th>2</th>\n",
       "      <td>im grabbing a minute to post i feel greedy wrong</td>\n",
       "      <td>anger</td>\n",
       "    </tr>\n",
       "    <tr>\n",
       "      <th>3</th>\n",
       "      <td>i am ever feeling nostalgic about the fireplac...</td>\n",
       "      <td>love</td>\n",
       "    </tr>\n",
       "    <tr>\n",
       "      <th>4</th>\n",
       "      <td>i am feeling grouchy</td>\n",
       "      <td>anger</td>\n",
       "    </tr>\n",
       "  </tbody>\n",
       "</table>\n",
       "</div>"
      ],
      "text/plain": [
       "                                                text  emotion\n",
       "0                            i didnt feel humiliated  sadness\n",
       "1  i can go from feeling so hopeless to so damned...  sadness\n",
       "2   im grabbing a minute to post i feel greedy wrong    anger\n",
       "3  i am ever feeling nostalgic about the fireplac...     love\n",
       "4                               i am feeling grouchy    anger"
      ]
     },
     "execution_count": 3,
     "metadata": {},
     "output_type": "execute_result"
    }
   ],
   "source": [
    "df.head()"
   ]
  },
  {
   "cell_type": "code",
   "execution_count": 4,
   "id": "aae7edde-9c87-4364-b43f-f896ed1ea343",
   "metadata": {},
   "outputs": [
    {
     "data": {
      "text/plain": [
       "emotion\n",
       "joy         5362\n",
       "sadness     4666\n",
       "anger       2159\n",
       "fear        1937\n",
       "love        1304\n",
       "surprise     572\n",
       "Name: count, dtype: int64"
      ]
     },
     "execution_count": 4,
     "metadata": {},
     "output_type": "execute_result"
    }
   ],
   "source": [
    "df['emotion'].value_counts()"
   ]
  },
  {
   "cell_type": "code",
   "execution_count": 5,
   "id": "0e3e33a7-94c0-4be5-89bd-3549744f0417",
   "metadata": {},
   "outputs": [],
   "source": [
    "mapping = {\n",
    "    \"joy\": 0,\n",
    "    \"sadness\": 1,\n",
    "    \"anger\": 2,\n",
    "    \"fear\": 3,\n",
    "    \"love\": 4,\n",
    "    \"surprise\": 5\n",
    "}\n",
    "df['emotion'] = df['emotion'].map(mapping)"
   ]
  },
  {
   "cell_type": "code",
   "execution_count": 6,
   "id": "9c659bc4-bc87-420e-8c2f-d0055ca2cba7",
   "metadata": {},
   "outputs": [
    {
     "data": {
      "text/plain": [
       "text       0\n",
       "emotion    0\n",
       "dtype: int64"
      ]
     },
     "execution_count": 6,
     "metadata": {},
     "output_type": "execute_result"
    }
   ],
   "source": [
    "df.isnull().sum()"
   ]
  },
  {
   "cell_type": "code",
   "execution_count": 7,
   "id": "f4957759-e8d4-4605-af39-295db781f844",
   "metadata": {},
   "outputs": [
    {
     "data": {
      "text/plain": [
       "(16000, 2)"
      ]
     },
     "execution_count": 7,
     "metadata": {},
     "output_type": "execute_result"
    }
   ],
   "source": [
    "df.shape"
   ]
  },
  {
   "cell_type": "code",
   "execution_count": 8,
   "id": "57a17871-a2dc-4c9c-a575-630f6dadfc50",
   "metadata": {},
   "outputs": [
    {
     "data": {
      "text/plain": [
       "np.int64(1)"
      ]
     },
     "execution_count": 8,
     "metadata": {},
     "output_type": "execute_result"
    }
   ],
   "source": [
    "df.duplicated().sum()"
   ]
  },
  {
   "cell_type": "code",
   "execution_count": 9,
   "id": "19b2ecbd-d9ce-42dd-b11f-705bb1410a24",
   "metadata": {},
   "outputs": [],
   "source": [
    "df.drop_duplicates(inplace=True)"
   ]
  },
  {
   "cell_type": "code",
   "execution_count": 10,
   "id": "4241365c-f1e7-4c09-b5a1-a63b7019af6f",
   "metadata": {},
   "outputs": [
    {
     "data": {
      "text/plain": [
       "(15999, 2)"
      ]
     },
     "execution_count": 10,
     "metadata": {},
     "output_type": "execute_result"
    }
   ],
   "source": [
    "df.shape"
   ]
  },
  {
   "cell_type": "markdown",
   "id": "f85fe19f-a8b8-479e-8db7-34daf0475faa",
   "metadata": {},
   "source": [
    "# Converting all text to lowercase"
   ]
  },
  {
   "cell_type": "code",
   "execution_count": 11,
   "id": "e36bcaaf-c793-44f8-b084-53420333872c",
   "metadata": {},
   "outputs": [],
   "source": [
    "df['text'] = df['text'].apply(lambda x : x.lower())"
   ]
  },
  {
   "cell_type": "markdown",
   "id": "331a04cb-f455-463b-8c54-513f0d2443a7",
   "metadata": {},
   "source": [
    "# Removing punctuation"
   ]
  },
  {
   "cell_type": "code",
   "execution_count": 12,
   "id": "2b32fd9b-ba28-4183-94cf-76e1d33225c9",
   "metadata": {},
   "outputs": [],
   "source": [
    "def remove_pun(txt):\n",
    "    return txt.translate(str.maketrans('','',string.punctuation))"
   ]
  },
  {
   "cell_type": "code",
   "execution_count": 13,
   "id": "e5dfec78-3737-47d8-9c1f-341bab4fd13f",
   "metadata": {},
   "outputs": [],
   "source": [
    "df['text'] = df['text'].apply(remove_pun)"
   ]
  },
  {
   "cell_type": "markdown",
   "id": "d4eb91e8-e0f9-4f8d-9cb3-ba7e6b16f72d",
   "metadata": {},
   "source": [
    "# Removing numbers"
   ]
  },
  {
   "cell_type": "code",
   "execution_count": 14,
   "id": "1f0b75bd-1bc7-4f2a-bc88-ca7ad2275340",
   "metadata": {},
   "outputs": [],
   "source": [
    "def remove_num(text):\n",
    "    new = \"\"\n",
    "    for i in text:\n",
    "        if not i.isdigit():\n",
    "            new = new + i\n",
    "    return new\n",
    "df['text'] = df['text'].apply(remove_num)\n",
    "df['text'] = df['text'].str.strip()"
   ]
  },
  {
   "cell_type": "markdown",
   "id": "b76c69fb-104f-4b3e-8420-4aa2cccf337a",
   "metadata": {},
   "source": [
    "# Removing emojis/ special characters"
   ]
  },
  {
   "cell_type": "code",
   "execution_count": 15,
   "id": "a36f6c5a-621c-47a4-9ebe-58fabf48c4a0",
   "metadata": {},
   "outputs": [],
   "source": [
    "def remove_emoji(txt):\n",
    "    new = \"\"\n",
    "    for i in txt:\n",
    "        if i.isascii():\n",
    "            new = new + i\n",
    "    return new\n",
    "df['text'] = df['text'].apply(remove_emoji)"
   ]
  },
  {
   "cell_type": "markdown",
   "id": "0cf89899-80a1-4137-827a-eb04bf1ed62e",
   "metadata": {},
   "source": [
    "# Removing stop words"
   ]
  },
  {
   "cell_type": "code",
   "execution_count": 16,
   "id": "1a494c8e-17a7-466b-a41b-17227b5bb9f5",
   "metadata": {},
   "outputs": [],
   "source": [
    "from nltk.corpus import stopwords\n",
    "from nltk.tokenize import word_tokenize\n",
    "stopwords = set(stopwords.words('English'))"
   ]
  },
  {
   "cell_type": "code",
   "execution_count": 17,
   "id": "3d0cf26f-5558-40e3-867f-89286889e6c4",
   "metadata": {},
   "outputs": [],
   "source": [
    "def remove_stopwords(txt):\n",
    "    word = word_tokenize(txt)\n",
    "    clean = []\n",
    "    for i in word:\n",
    "        if not i in stopwords:\n",
    "            clean.append(i)\n",
    "    return ' '.join(clean)"
   ]
  },
  {
   "cell_type": "code",
   "execution_count": 18,
   "id": "e78e5558-2dc2-486d-bef3-89598942bd62",
   "metadata": {},
   "outputs": [],
   "source": [
    "df['text'] = df['text'].apply(remove_stopwords)"
   ]
  },
  {
   "cell_type": "markdown",
   "id": "8b25e419-c9fc-48e1-af40-17b5eb9a4591",
   "metadata": {},
   "source": [
    "# Model training"
   ]
  },
  {
   "cell_type": "code",
   "execution_count": 19,
   "id": "e78a73eb-f526-474b-a56f-ac95cb797dab",
   "metadata": {},
   "outputs": [],
   "source": [
    "from sklearn.feature_extraction.text import CountVectorizer,TfidfVectorizer\n",
    "from sklearn.model_selection import train_test_split"
   ]
  },
  {
   "cell_type": "code",
   "execution_count": 20,
   "id": "e04c9b46-43f8-4c79-b5d6-69de86656d94",
   "metadata": {},
   "outputs": [],
   "source": [
    "X_train, X_test, y_train, y_test = train_test_split(df['text'],df['emotion'], test_size=0.33, random_state=42)"
   ]
  },
  {
   "cell_type": "code",
   "execution_count": 21,
   "id": "4452724e-7baa-4427-a161-4343dc7543db",
   "metadata": {},
   "outputs": [
    {
     "name": "stdout",
     "output_type": "stream",
     "text": [
      "(10719,) (5280,) (10719,) (5280,)\n"
     ]
    }
   ],
   "source": [
    "print(X_train.shape, X_test.shape, y_train.shape, y_test.shape)"
   ]
  },
  {
   "cell_type": "code",
   "execution_count": 22,
   "id": "18036937-1d8b-440b-9903-f7488f6a315b",
   "metadata": {},
   "outputs": [],
   "source": [
    "bow = CountVectorizer()\n",
    "X_train_bow = bow.fit_transform(X_train)\n",
    "X_test_bow = bow.transform(X_test)"
   ]
  },
  {
   "cell_type": "code",
   "execution_count": 23,
   "id": "13dfc4a2-7d18-4b1f-869b-ae3b33463075",
   "metadata": {},
   "outputs": [],
   "source": [
    "from sklearn.naive_bayes import MultinomialNB\n",
    "from sklearn.linear_model import LogisticRegression\n",
    "from sklearn.ensemble import RandomForestClassifier\n",
    "from xgboost import XGBClassifier\n",
    "from sklearn.metrics import accuracy_score,classification_report,confusion_matrix "
   ]
  },
  {
   "cell_type": "markdown",
   "id": "9d4f8a2b-d99d-46dc-a4e0-8caf7101cbcb",
   "metadata": {},
   "source": [
    "# Naive bayes(MultinomialNB)"
   ]
  },
  {
   "cell_type": "code",
   "execution_count": 24,
   "id": "34ad56f1-24be-4471-a60b-602de9682096",
   "metadata": {},
   "outputs": [
    {
     "name": "stdout",
     "output_type": "stream",
     "text": [
      "Accuracy score 0.7691287878787879\n",
      "\n",
      "Classification report               precision    recall  f1-score   support\n",
      "\n",
      "           0       0.73      0.96      0.83      1756\n",
      "           1       0.76      0.93      0.84      1575\n",
      "           2       0.89      0.63      0.74       687\n",
      "           3       0.83      0.57      0.68       599\n",
      "           4       0.92      0.25      0.39       484\n",
      "           5       0.93      0.08      0.14       179\n",
      "\n",
      "    accuracy                           0.77      5280\n",
      "   macro avg       0.84      0.57      0.60      5280\n",
      "weighted avg       0.80      0.77      0.74      5280\n",
      "\n"
     ]
    }
   ],
   "source": [
    "model_nb = MultinomialNB()\n",
    "model_nb.fit(X_train_bow,y_train)\n",
    "y_pred_nb = model_nb.predict(X_test_bow)\n",
    "print(\"Accuracy score\",accuracy_score(y_test,y_pred_nb),end='\\n'*2)\n",
    "print(\"Classification report\",classification_report(y_test,y_pred_nb))"
   ]
  },
  {
   "cell_type": "code",
   "execution_count": 25,
   "id": "16abf2d3-6111-4b7c-b2b5-944ff8363c73",
   "metadata": {},
   "outputs": [
    {
     "name": "stdout",
     "output_type": "stream",
     "text": [
      "Accuracy score 0.8865530303030303\n",
      "\n",
      "Classification report               precision    recall  f1-score   support\n",
      "\n",
      "           0       0.88      0.94      0.91      1756\n",
      "           1       0.92      0.92      0.92      1575\n",
      "           2       0.89      0.85      0.87       687\n",
      "           3       0.85      0.83      0.84       599\n",
      "           4       0.85      0.74      0.79       484\n",
      "           5       0.84      0.73      0.78       179\n",
      "\n",
      "    accuracy                           0.89      5280\n",
      "   macro avg       0.87      0.84      0.85      5280\n",
      "weighted avg       0.89      0.89      0.89      5280\n",
      "\n"
     ]
    }
   ],
   "source": [
    "model_lr = LogisticRegression()\n",
    "model_lr.fit(X_train_bow,y_train)\n",
    "y_pred_lr = model_lr.predict(X_test_bow)\n",
    "print(\"Accuracy score\",accuracy_score(y_test,y_pred_lr),end='\\n'*2)\n",
    "print(\"Classification report\",classification_report(y_test,y_pred_lr))"
   ]
  },
  {
   "cell_type": "code",
   "execution_count": 26,
   "id": "9b7f1f43-0caa-453a-bc44-f2e097caaccf",
   "metadata": {},
   "outputs": [
    {
     "name": "stdout",
     "output_type": "stream",
     "text": [
      "Accuracy score 0.8890151515151515\n",
      "\n",
      "Classification report               precision    recall  f1-score   support\n",
      "\n",
      "           0       0.90      0.92      0.91      1756\n",
      "           1       0.93      0.93      0.93      1575\n",
      "           2       0.86      0.88      0.87       687\n",
      "           3       0.87      0.82      0.85       599\n",
      "           4       0.84      0.76      0.80       484\n",
      "           5       0.74      0.79      0.76       179\n",
      "\n",
      "    accuracy                           0.89      5280\n",
      "   macro avg       0.86      0.85      0.85      5280\n",
      "weighted avg       0.89      0.89      0.89      5280\n",
      "\n"
     ]
    }
   ],
   "source": [
    "model_rfc = RandomForestClassifier()\n",
    "model_rfc.fit(X_train_bow,y_train)\n",
    "y_pred_rfc = model_rfc.predict(X_test_bow)\n",
    "print(\"Accuracy score\",accuracy_score(y_test,y_pred_rfc),end='\\n'*2)\n",
    "print(\"Classification report\",classification_report(y_test,y_pred_rfc))"
   ]
  },
  {
   "cell_type": "code",
   "execution_count": 27,
   "id": "1191a604-1630-444e-aeec-c1c5202a94d8",
   "metadata": {},
   "outputs": [
    {
     "name": "stdout",
     "output_type": "stream",
     "text": [
      "Predicted Emotion: love\n"
     ]
    }
   ],
   "source": [
    "emotion_map = {\n",
    "    0: \"joy\",\n",
    "    1: \"sadness\",\n",
    "    2: \"anger\",\n",
    "    3: \"fear\",\n",
    "    4: \"love\",\n",
    "    5: \"surprise\"\n",
    "}\n",
    "user_input = [\"i loved you\"]\n",
    "output = model_rfc.predict(bow.transform(user_input))\n",
    "predicted_emotion = emotion_map[int(output[0])]\n",
    "print(\"Predicted Emotion:\", predicted_emotion)"
   ]
  },
  {
   "cell_type": "code",
   "execution_count": 28,
   "id": "61fa214b-e007-445c-b7a2-7abef51c0e53",
   "metadata": {},
   "outputs": [
    {
     "name": "stdout",
     "output_type": "stream",
     "text": [
      "Predicted Emotion: 3\n"
     ]
    }
   ],
   "source": [
    "user_input = [\"i'm scared but i love you\"]\n",
    "output = model_lr.predict(bow.transform(user_input))\n",
    "print(\"Predicted Emotion:\", output[0])"
   ]
  },
  {
   "cell_type": "code",
   "execution_count": 29,
   "id": "bc7cd627-1ff2-4e63-b1c0-00e8a33a8c24",
   "metadata": {},
   "outputs": [
    {
     "name": "stdout",
     "output_type": "stream",
     "text": [
      "Predicted Emotion: 3\n"
     ]
    }
   ],
   "source": [
    "user_input = [\"i'm scared\"]\n",
    "output = model_nb.predict(bow.transform(user_input))\n",
    "print(\"Predicted Emotion:\", output[0])"
   ]
  },
  {
   "cell_type": "code",
   "execution_count": 32,
   "id": "f83c04d5-4389-4831-8f0f-0816d720bb50",
   "metadata": {},
   "outputs": [],
   "source": [
    "import pickle"
   ]
  },
  {
   "cell_type": "code",
   "execution_count": 33,
   "id": "c1c1fbe2-86c6-49c0-ad3f-b602b5e6bb82",
   "metadata": {},
   "outputs": [],
   "source": [
    "pickle.dump(model_rfc,open('RFmodel.pkl','wb'))"
   ]
  },
  {
   "cell_type": "code",
   "execution_count": 34,
   "id": "1d205e62-a8f5-4360-8ad5-b033dd657d7b",
   "metadata": {},
   "outputs": [],
   "source": [
    "pickle.dump(bow,open('bow.pkl','wb'))"
   ]
  },
  {
   "cell_type": "code",
   "execution_count": null,
   "id": "f4562965-fbff-4848-a43f-e96bc9ac09b5",
   "metadata": {},
   "outputs": [],
   "source": []
  }
 ],
 "metadata": {
  "kernelspec": {
   "display_name": "Python 3 (ipykernel)",
   "language": "python",
   "name": "python3"
  },
  "language_info": {
   "codemirror_mode": {
    "name": "ipython",
    "version": 3
   },
   "file_extension": ".py",
   "mimetype": "text/x-python",
   "name": "python",
   "nbconvert_exporter": "python",
   "pygments_lexer": "ipython3",
   "version": "3.13.5"
  }
 },
 "nbformat": 4,
 "nbformat_minor": 5
}
